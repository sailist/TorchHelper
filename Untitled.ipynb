{
 "cells": [
  {
   "cell_type": "code",
   "execution_count": 17,
   "metadata": {},
   "outputs": [],
   "source": [
    "import numpy as np\n",
    "\n",
    "# 模型显存占用监测函数\n",
    "# model：输入的模型\n",
    "# input：实际中需要输入的Tensor变量\n",
    "# type_size 默认为 4 默认类型为 float32\n",
    "def modelsize(model, input, type_size=4):\n",
    "    para = sum([np.prod(list(p.size())) for p in model.parameters()])\n",
    "    print('Model {} : params: {:4f}M'.format(model._get_name(), para * type_size / 1000 / 1000))\n",
    "\n",
    "    input_ = input.clone()\n",
    "    input_.requires_grad_(requires_grad=False)\n",
    "\n",
    "    mods = list(model.modules())\n",
    "    out_sizes = []\n",
    "\n",
    "    for i in range(1, len(mods)):\n",
    "        m = mods[i]\n",
    "        if isinstance(m, nn.ReLU):\n",
    "            if m.inplace:\n",
    "                continue\n",
    "        out = m(input_)\n",
    "        out_sizes.append(np.array(out.size()))\n",
    "        input_ = out\n",
    "\n",
    "    total_nums = 0\n",
    "    for i in range(len(out_sizes)):\n",
    "        s = out_sizes[i]\n",
    "        nums = np.prod(np.array(s))\n",
    "        total_nums += nums\n",
    "\n",
    "    print('Model {} : intermedite variables: {:3f} M (without backward)'\n",
    "          .format(model._get_name(), total_nums))\n",
    "    print('Model {} : intermedite variables: {:3f} M (with backward)'\n",
    "          .format(model._get_name(), total_nums * type_size * 2 / 1000 / 1000))"
   ]
  },
  {
   "cell_type": "code",
   "execution_count": 2,
   "metadata": {},
   "outputs": [],
   "source": [
    "from torch import nn"
   ]
  },
  {
   "cell_type": "code",
   "execution_count": 11,
   "metadata": {},
   "outputs": [],
   "source": [
    "a = nn.Linear(100,10)"
   ]
  },
  {
   "cell_type": "code",
   "execution_count": 12,
   "metadata": {},
   "outputs": [],
   "source": [
    "import torch"
   ]
  },
  {
   "cell_type": "code",
   "execution_count": 14,
   "metadata": {},
   "outputs": [],
   "source": [
    "ipt = torch.randn((10,100))"
   ]
  },
  {
   "cell_type": "code",
   "execution_count": 16,
   "metadata": {},
   "outputs": [
    {
     "name": "stdout",
     "output_type": "stream",
     "text": [
      "Linear(in_features=100, out_features=10, bias=True)\n"
     ]
    }
   ],
   "source": [
    "print(a)"
   ]
  },
  {
   "cell_type": "code",
   "execution_count": 19,
   "metadata": {},
   "outputs": [],
   "source": [
    "class A:\n",
    "    pass\n",
    "\n",
    "class B(A):\n",
    "    pass"
   ]
  },
  {
   "cell_type": "code",
   "execution_count": 27,
   "metadata": {},
   "outputs": [],
   "source": [
    "a = {}\n",
    "a.update({1:2})"
   ]
  },
  {
   "cell_type": "code",
   "execution_count": 28,
   "metadata": {},
   "outputs": [
    {
     "data": {
      "text/plain": [
       "{1: 2}"
      ]
     },
     "execution_count": 28,
     "metadata": {},
     "output_type": "execute_result"
    }
   ],
   "source": [
    "a"
   ]
  }
 ],
 "metadata": {
  "kernelspec": {
   "display_name": "Python 3",
   "language": "python",
   "name": "python3"
  },
  "language_info": {
   "codemirror_mode": {
    "name": "ipython",
    "version": 3
   },
   "file_extension": ".py",
   "mimetype": "text/x-python",
   "name": "python",
   "nbconvert_exporter": "python",
   "pygments_lexer": "ipython3",
   "version": "3.7.3"
  }
 },
 "nbformat": 4,
 "nbformat_minor": 2
}
